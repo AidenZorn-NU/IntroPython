{
  "nbformat": 4,
  "nbformat_minor": 0,
  "metadata": {
    "colab": {
      "provenance": [],
      "authorship_tag": "ABX9TyMqz9GytiksAir9VS+zBSAa",
      "include_colab_link": true
    },
    "kernelspec": {
      "name": "python3",
      "display_name": "Python 3"
    },
    "language_info": {
      "name": "python"
    }
  },
  "cells": [
    {
      "cell_type": "markdown",
      "metadata": {
        "id": "view-in-github",
        "colab_type": "text"
      },
      "source": [
        "<a href=\"https://colab.research.google.com/github/AidenZorn-NU/IntroPython/blob/main/pythonBasics.ipynb\" target=\"_parent\"><img src=\"https://colab.research.google.com/assets/colab-badge.svg\" alt=\"Open In Colab\"/></a>"
      ]
    },
    {
      "cell_type": "markdown",
      "source": [
        "### This notebook is python basics\n",
        "\n",
        "Colab & Jupyter provides ability to make **notebooks**. Notebooks allow you to create *text* and *code* cells. Text cells support MarkDown. Code cells require python.\n",
        "\n",
        "**Python Datatypes**\n",
        "* int\n",
        "* str\n",
        "* float\n",
        "* bool"
      ],
      "metadata": {
        "id": "GTXEMsIF9N9o"
      }
    },
    {
      "cell_type": "code",
      "execution_count": null,
      "metadata": {
        "id": "RQOakTQuj1_A",
        "colab": {
          "base_uri": "https://localhost:8080/"
        },
        "outputId": "4a493130-142e-4c77-90d9-d2c6915310b6"
      },
      "outputs": [
        {
          "output_type": "stream",
          "name": "stdout",
          "text": [
            "Hello World\n"
          ]
        }
      ],
      "source": [
        "print('Hello World')"
      ]
    },
    {
      "cell_type": "markdown",
      "source": [
        "#The Representation Problem\n",
        "How do we code states and actions of a real world problem in a programming language?\n",
        "\n",
        "**PEAS**\n",
        "* Performance measure\n",
        "* Environment\n",
        "  * includes **state** and\n",
        "  * rules for how **actions** update the state\n",
        "* Actions\n",
        "* Sensors - the portion of the world state that the agent can see\n",
        "\n",
        "* agent - an autonomous program that sees through sensors and determines actions\n",
        "\n",
        "coninuous vs. discreet\n",
        "\n",
        "## Example: farmer, wolf, sheep, oats & river problem"
      ],
      "metadata": {
        "id": "HOrx-Y-3OOI8"
      }
    },
    {
      "cell_type": "code",
      "source": [
        "# STATE\n",
        "\n",
        "# object locations\n",
        "farmer_top = True\n",
        "wolf_top = True\n",
        "sheep_top = True\n",
        "oats_top = True\n",
        "\n",
        "# loss conditions (lose if either is false)\n",
        "oats_alive = True\n",
        "sheep_alive = True\n",
        "\n",
        "def print_state():\n",
        "  \"\"\" Print all parties on top of river bank, followed by\n",
        "  =======,\n",
        "  then all parties below river bank \"\"\"\n",
        "  if farmer_top:\n",
        "    print('Farmer')\n",
        "  if wolf_top:\n",
        "    print('Wolf')\n",
        "  if sheep_top:\n",
        "    print('Sheep')\n",
        "  if oats_top:\n",
        "    print('Oats')\n",
        "  print('==========')\n",
        "  if not farmer_top:\n",
        "    print('Farmer')\n",
        "  if not wolf_top:\n",
        "    print('Wolf')\n",
        "  if not sheep_top:\n",
        "    print('Sheep')\n",
        "  if not oats_top:\n",
        "    print('Oats')\n",
        "  if farmer_top and wolf_top and sheep_top and oats_top:\n",
        "    print('')\n",
        "\n",
        "\n",
        "# ACTIONS\n",
        "\n",
        "def move(gort):\n",
        "  \"\"\" Updates STATE variables given that the farmer moves something\"\"\"\n",
        "  if gort==\"wolf\" and farmer_top==wolf_top:\n",
        "    wolf_top = not wolf_top\n",
        "    farmer_top = not farmer_top\n",
        "  elif gort==\"sheep\" and farmer_top==sheep_top:\n",
        "    sheep_top = not sheep_top\n",
        "    farmer_top = not farmer_top\n",
        "  elif gort==\"oats\" and farmer_top==oats_top:\n",
        "    oats_top = not oats_top\n",
        "    farmer_top = not farmer_top\n",
        "  elif gort==\"none\":\n",
        "    farmer_top = not farmer_top\n",
        "  else:\n",
        "    return\n",
        "  return\n",
        "\n",
        "##########\n",
        "while True:\n",
        "  print_state()\n",
        "\n",
        "  s1 = str(input('move: '))\n",
        "  print('')\n",
        "  move(s1)\n",
        "\n",
        "  if not (oats_alive and sheep_alive):\n",
        "    print(\"you lose\")\n",
        "    break\n",
        "  if not (farmer_top and wolf_top and sheep_top and oats_top):\n",
        "    print(\"you win\")\n",
        "    break"
      ],
      "metadata": {
        "colab": {
          "base_uri": "https://localhost:8080/",
          "height": 462
        },
        "id": "vmLUvmjyP5sl",
        "outputId": "df009541-1e3c-4011-ca07-71a491f0f13c"
      },
      "execution_count": 11,
      "outputs": [
        {
          "output_type": "stream",
          "name": "stdout",
          "text": [
            "Farmer\n",
            "Wolf\n",
            "Sheep\n",
            "Oats\n",
            "==========\n",
            "\n",
            "move: wolf\n",
            "\n"
          ]
        },
        {
          "output_type": "error",
          "ename": "UnboundLocalError",
          "evalue": "cannot access local variable 'farmer_top' where it is not associated with a value",
          "traceback": [
            "\u001b[0;31m---------------------------------------------------------------------------\u001b[0m",
            "\u001b[0;31mUnboundLocalError\u001b[0m                         Traceback (most recent call last)",
            "\u001b[0;32m/tmp/ipython-input-3914531525.py\u001b[0m in \u001b[0;36m<cell line: 0>\u001b[0;34m()\u001b[0m\n\u001b[1;32m     61\u001b[0m \u001b[0ms1\u001b[0m \u001b[0;34m=\u001b[0m \u001b[0mstr\u001b[0m\u001b[0;34m(\u001b[0m\u001b[0minput\u001b[0m\u001b[0;34m(\u001b[0m\u001b[0;34m'move: '\u001b[0m\u001b[0;34m)\u001b[0m\u001b[0;34m)\u001b[0m\u001b[0;34m\u001b[0m\u001b[0;34m\u001b[0m\u001b[0m\n\u001b[1;32m     62\u001b[0m \u001b[0mprint\u001b[0m\u001b[0;34m(\u001b[0m\u001b[0;34m''\u001b[0m\u001b[0;34m)\u001b[0m\u001b[0;34m\u001b[0m\u001b[0;34m\u001b[0m\u001b[0m\n\u001b[0;32m---> 63\u001b[0;31m \u001b[0mmove\u001b[0m\u001b[0;34m(\u001b[0m\u001b[0ms1\u001b[0m\u001b[0;34m)\u001b[0m\u001b[0;34m\u001b[0m\u001b[0;34m\u001b[0m\u001b[0m\n\u001b[0m\u001b[1;32m     64\u001b[0m \u001b[0;34m\u001b[0m\u001b[0m\n\u001b[1;32m     65\u001b[0m \u001b[0;32mif\u001b[0m \u001b[0;32mnot\u001b[0m \u001b[0;34m(\u001b[0m\u001b[0moats_alive\u001b[0m \u001b[0;32mand\u001b[0m \u001b[0msheep_alive\u001b[0m\u001b[0;34m)\u001b[0m\u001b[0;34m:\u001b[0m\u001b[0;34m\u001b[0m\u001b[0;34m\u001b[0m\u001b[0m\n",
            "\u001b[0;32m/tmp/ipython-input-3914531525.py\u001b[0m in \u001b[0;36mmove\u001b[0;34m(gort)\u001b[0m\n\u001b[1;32m     40\u001b[0m \u001b[0;32mdef\u001b[0m \u001b[0mmove\u001b[0m\u001b[0;34m(\u001b[0m\u001b[0mgort\u001b[0m\u001b[0;34m)\u001b[0m\u001b[0;34m:\u001b[0m\u001b[0;34m\u001b[0m\u001b[0;34m\u001b[0m\u001b[0m\n\u001b[1;32m     41\u001b[0m   \u001b[0;34m\"\"\" Updates STATE variables given that the farmer moves something\"\"\"\u001b[0m\u001b[0;34m\u001b[0m\u001b[0;34m\u001b[0m\u001b[0m\n\u001b[0;32m---> 42\u001b[0;31m   \u001b[0;32mif\u001b[0m \u001b[0mgort\u001b[0m\u001b[0;34m==\u001b[0m\u001b[0;34m\"wolf\"\u001b[0m \u001b[0;32mand\u001b[0m \u001b[0mfarmer_top\u001b[0m\u001b[0;34m==\u001b[0m\u001b[0mwolf_top\u001b[0m\u001b[0;34m:\u001b[0m\u001b[0;34m\u001b[0m\u001b[0;34m\u001b[0m\u001b[0m\n\u001b[0m\u001b[1;32m     43\u001b[0m     \u001b[0mwolf_top\u001b[0m \u001b[0;34m=\u001b[0m \u001b[0;32mnot\u001b[0m \u001b[0mwolf_top\u001b[0m\u001b[0;34m\u001b[0m\u001b[0;34m\u001b[0m\u001b[0m\n\u001b[1;32m     44\u001b[0m     \u001b[0mfarmer_top\u001b[0m \u001b[0;34m=\u001b[0m \u001b[0;32mnot\u001b[0m \u001b[0mfarmer_top\u001b[0m\u001b[0;34m\u001b[0m\u001b[0;34m\u001b[0m\u001b[0m\n",
            "\u001b[0;31mUnboundLocalError\u001b[0m: cannot access local variable 'farmer_top' where it is not associated with a value"
          ]
        }
      ]
    }
  ]
}