{
  "nbformat": 4,
  "nbformat_minor": 0,
  "metadata": {
    "colab": {
      "provenance": [],
      "authorship_tag": "ABX9TyNLK6CqikpKSUwE36MbMUzV",
      "include_colab_link": true
    },
    "kernelspec": {
      "name": "python3",
      "display_name": "Python 3"
    },
    "language_info": {
      "name": "python"
    }
  },
  "cells": [
    {
      "cell_type": "markdown",
      "metadata": {
        "id": "view-in-github",
        "colab_type": "text"
      },
      "source": [
        "<a href=\"https://colab.research.google.com/github/AidenZorn-NU/IntroPython/blob/main/pythonBasics.ipynb\" target=\"_parent\"><img src=\"https://colab.research.google.com/assets/colab-badge.svg\" alt=\"Open In Colab\"/></a>"
      ]
    },
    {
      "cell_type": "markdown",
      "source": [
        "### This notebook is python basics\n",
        "\n",
        "Colab & Jupyter provides ability to make **notebooks**. Notebooks allow you to create *text* and *code* cells. Text cells support MarkDown. Code cells require python.\n",
        "\n",
        "**Python Datatypes**\n",
        "* int\n",
        "* str\n",
        "* float\n",
        "* bool"
      ],
      "metadata": {
        "id": "GTXEMsIF9N9o"
      }
    },
    {
      "cell_type": "code",
      "execution_count": null,
      "metadata": {
        "id": "RQOakTQuj1_A",
        "colab": {
          "base_uri": "https://localhost:8080/"
        },
        "outputId": "4a493130-142e-4c77-90d9-d2c6915310b6"
      },
      "outputs": [
        {
          "output_type": "stream",
          "name": "stdout",
          "text": [
            "Hello World\n"
          ]
        }
      ],
      "source": [
        "print('Hello World')"
      ]
    },
    {
      "cell_type": "markdown",
      "source": [
        "#The Representation Problem\n",
        "How do we code states and actions of a real world problem in a programming language?\n",
        "\n",
        "**PEAS**\n",
        "* Performance measure\n",
        "* Environment\n",
        "  * includes **state** and\n",
        "  * rules for how **actions** update the state\n",
        "* Actions\n",
        "* Sensors - the portion of the world state that the agent can see\n",
        "\n",
        "* agent - an autonomous program that sees through sensors and determines actions\n",
        "\n",
        "coninuous vs. discreet\n",
        "\n",
        "## Example: farmer, wolf, sheep, oats & river problem"
      ],
      "metadata": {
        "id": "HOrx-Y-3OOI8"
      }
    },
    {
      "cell_type": "code",
      "source": [
        "# STATE\n",
        "\n",
        "# object locations\n",
        "farmer_top = True\n",
        "wolf_top = True\n",
        "sheep_top = True\n",
        "oats_top = True\n",
        "\n",
        "# loss conditions (lose if either is false)\n",
        "oats_alive = True\n",
        "sheep_alive = True\n",
        "\n",
        "def print_state():\n",
        "  \"\"\" Print all parties on top of river bank, followed by\n",
        "  =======,\n",
        "  then all parties below river bank \"\"\"\n",
        "  if farmer_top:\n",
        "    print('Farmer')\n",
        "  if wolf_top:\n",
        "    print('Wolf')\n",
        "  if sheep_top:\n",
        "    print('Sheep')\n",
        "  if oats_top:\n",
        "    print('Oats')\n",
        "  print('==========')\n",
        "  if not farmer_top:\n",
        "    print('Farmer')\n",
        "  if not wolf_top:\n",
        "    print('Wolf')\n",
        "  if not sheep_top:\n",
        "    print('Sheep')\n",
        "  if not oats_top:\n",
        "    print('Oats')\n",
        "  if farmer_top and wolf_top and sheep_top and oats_top:\n",
        "    print('')\n",
        "\n",
        "\n",
        "# ACTIONS\n",
        "\n",
        "def move(gort):\n",
        "  \"\"\" Updates STATE variables given that the farmer moves something\"\"\"\n",
        "  if gort not in['wolf', 'sheep', 'oats', '']:\n",
        "    print('invalid')\n",
        "    return False\n",
        "\n",
        "  if gort == 'wolf':\n",
        "    legal = farmer_top==wolf_top\n",
        "  elif gort == 'sheep':\n",
        "    legal = farmer_top==sheep_top\n",
        "  elif gort == 'oats':\n",
        "    legal = farmer_top==oats_top\n",
        "\n",
        "  if not legal:\n",
        "    print(\"illegal move\")\n",
        "    return False\n",
        "\n",
        "  \"\"\"\n",
        "  farmer_top = not farmer_top\n",
        "  if gort==\"wolf\":\n",
        "    wolf_top = not wolf_top\n",
        "  elif gort==\"sheep\":\n",
        "    sheep_top = not sheep_top\n",
        "  elif gort==\"oats\":\n",
        "    oats_top = not oats_top\n",
        "  else:\n",
        "    return\n",
        "  return\"\"\"\n",
        "\n",
        "##########\n",
        "while True:\n",
        "  print_state()\n",
        "\n",
        "  gort = str(input('move: '))\n",
        "  print('')\n",
        "  if gort==\"wolf\" and farmer_top==wolf_top:\n",
        "    wolf_top = not wolf_top\n",
        "    farmer_top = not farmer_top\n",
        "  elif gort==\"sheep\" and farmer_top==sheep_top:\n",
        "    sheep_top = not sheep_top\n",
        "    farmer_top = not farmer_top\n",
        "  elif gort==\"oats\" and farmer_top==oats_top:\n",
        "    oats_top = not oats_top\n",
        "    farmer_top = not farmer_top\n",
        "  elif gort==\"\":\n",
        "    farmer_top = not farmer_top\n",
        "  else:\n",
        "    print('invalid \\n')\n",
        "\n",
        "  if sheep_top == wolf_top != farmer_top:\n",
        "    sheep_alive = False\n",
        "  elif sheep_top == oats_top != farmer_top:\n",
        "    oats_alive = False\n",
        "\n",
        "  if not (oats_alive and sheep_alive):\n",
        "    print(\"you lose\")\n",
        "    break\n",
        "  if not (farmer_top or wolf_top or sheep_top or oats_top):\n",
        "    print(\"you win\")\n",
        "    break"
      ],
      "metadata": {
        "colab": {
          "base_uri": "https://localhost:8080/",
          "height": 105
        },
        "id": "vmLUvmjyP5sl",
        "outputId": "564f7412-378d-4bef-9fb5-6f9dcbb59961"
      },
      "execution_count": null,
      "outputs": [
        {
          "output_type": "error",
          "ename": "IndentationError",
          "evalue": "expected an indented block after 'if' statement on line 47 (ipython-input-5624239.py, line 50)",
          "traceback": [
            "\u001b[0;36m  File \u001b[0;32m\"/tmp/ipython-input-5624239.py\"\u001b[0;36m, line \u001b[0;32m50\u001b[0m\n\u001b[0;31m    '''if gort==\"wolf\" and farmer_top==wolf_top:\u001b[0m\n\u001b[0m    ^\u001b[0m\n\u001b[0;31mIndentationError\u001b[0m\u001b[0;31m:\u001b[0m expected an indented block after 'if' statement on line 47\n"
          ]
        }
      ]
    },
    {
      "cell_type": "code",
      "source": [
        "# oop version\n",
        "\n",
        "class Game:\n",
        "  def __init__(self):\n",
        "    # object locations\n",
        "    self.farmer_top = True\n",
        "    self.wolf_top = True\n",
        "    self.sheep_top = True\n",
        "    self.oats_top = True\n",
        "    # loss conditions (lose if either is false)\n",
        "    self.oats_alive = True\n",
        "    self.sheep_alive = True\n",
        "\n",
        "  def print_state(self):\n",
        "    \"\"\" Print all parties on top of river bank, followed by\n",
        "    =======,\n",
        "    then all parties below river bank \"\"\"\n",
        "    if farmer_top:\n",
        "      print('Farmer')\n",
        "    if wolf_top:\n",
        "      print('Wolf')\n",
        "    if sheep_top:\n",
        "      print('Sheep')\n",
        "    if oats_top:\n",
        "      print('Oats')\n",
        "    print('==========')\n",
        "    if not farmer_top:\n",
        "      print('Farmer')\n",
        "    if not wolf_top:\n",
        "      print('Wolf')\n",
        "    if not sheep_top:\n",
        "      print('Sheep')\n",
        "    if not oats_top:\n",
        "      print('Oats')\n",
        "    if farmer_top and wolf_top and sheep_top and oats_top:\n",
        "      print('')\n",
        "\n",
        "  def move(self,gort):\n",
        "    if gort not in['wolf', 'sheep', 'oats', '']:\n",
        "      print('invalid')\n",
        "      return\n",
        "\n",
        "    if gort == 'wolf':\n",
        "      legal = farmer_top==wolf_top\n",
        "    elif gort == 'sheep':\n",
        "      legal = farmer_top==sheep_top\n",
        "    elif gort == 'oats':\n",
        "      legal = farmer_top==oats_top\n",
        "\n",
        "    if not legal:\n",
        "      print(\"illegal move\")\n",
        "      return\n",
        "\n"
      ],
      "metadata": {
        "id": "etEiGFd9wmIy"
      },
      "execution_count": null,
      "outputs": []
    },
    {
      "cell_type": "markdown",
      "source": [
        "**list index function** - Returns index of the first instance of target\n",
        "\n",
        "- myList.index(target)\n",
        "\n",
        "**pop** - removes list item at given index, defaults to last item\n",
        "\n",
        "- myList.pop(i)\n",
        "\n",
        "**append** - adds item to end of list\n",
        "- myList.pop(item)\n"
      ],
      "metadata": {
        "id": "NT2af4ENVxcK"
      }
    },
    {
      "cell_type": "code",
      "source": [
        "list_a = ['a',1,True,'Frog','Cat']\n",
        "\n",
        "target = 'Frog'\n",
        "i=0\n",
        "for e in list_a:\n",
        "  if e == target:\n",
        "    break\n",
        "  i+=1\n",
        "print('index is:',i)\n",
        "print('index2 is:',list_a.index(target))"
      ],
      "metadata": {
        "colab": {
          "base_uri": "https://localhost:8080/"
        },
        "id": "qXhRqFumUqvj",
        "outputId": "9598e429-7b04-4586-e8c4-7ca76a602728"
      },
      "execution_count": 3,
      "outputs": [
        {
          "output_type": "stream",
          "name": "stdout",
          "text": [
            "index is: 3\n",
            "index2 is: 3\n"
          ]
        }
      ]
    }
  ]
}