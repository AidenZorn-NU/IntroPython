{
  "nbformat": 4,
  "nbformat_minor": 0,
  "metadata": {
    "colab": {
      "provenance": [],
      "authorship_tag": "ABX9TyPHB5sZ+NSLg9fUtOL+FQB6",
      "include_colab_link": true
    },
    "kernelspec": {
      "name": "python3",
      "display_name": "Python 3"
    },
    "language_info": {
      "name": "python"
    }
  },
  "cells": [
    {
      "cell_type": "markdown",
      "metadata": {
        "id": "view-in-github",
        "colab_type": "text"
      },
      "source": [
        "<a href=\"https://colab.research.google.com/github/AidenZorn-NU/IntroPython/blob/main/pythonBasics.ipynb\" target=\"_parent\"><img src=\"https://colab.research.google.com/assets/colab-badge.svg\" alt=\"Open In Colab\"/></a>"
      ]
    },
    {
      "cell_type": "markdown",
      "source": [
        "### This notebook is python basics\n",
        "\n",
        "Colab & Jupyter provides ability to make **notebooks**. Notebooks allow you to create *text* and *code* cells. Text cells support MarkDown. Code cells require python.\n",
        "\n",
        "**Python Datatypes**\n",
        "* int\n",
        "* str\n",
        "* float\n",
        "* bool"
      ],
      "metadata": {
        "id": "GTXEMsIF9N9o"
      }
    },
    {
      "cell_type": "code",
      "execution_count": null,
      "metadata": {
        "id": "RQOakTQuj1_A",
        "colab": {
          "base_uri": "https://localhost:8080/"
        },
        "outputId": "4a493130-142e-4c77-90d9-d2c6915310b6"
      },
      "outputs": [
        {
          "output_type": "stream",
          "name": "stdout",
          "text": [
            "Hello World\n"
          ]
        }
      ],
      "source": [
        "print('Hello World')"
      ]
    },
    {
      "cell_type": "markdown",
      "source": [
        "#The Representation Problem\n",
        "How do we code states and actions of a real world problem in a programming language?\n",
        "\n",
        "**PEAS**\n",
        "* Performance measure\n",
        "* Environment\n",
        "  * includes **state** and\n",
        "  * rules for how **actions** update the state\n",
        "* Actions\n",
        "* Sensors - the portion of the world state that the agent can see\n",
        "\n",
        "* agent - an autonomous program that sees through sensors and determines actions\n",
        "\n",
        "coninuous vs. discreet\n",
        "\n",
        "## Example: farmer, wolf, sheep, oats & river problem"
      ],
      "metadata": {
        "id": "HOrx-Y-3OOI8"
      }
    },
    {
      "cell_type": "code",
      "source": [
        "# STATE\n",
        "\n",
        "# object locations\n",
        "farmer_top = True\n",
        "wolf_top = True\n",
        "sheep_top = True\n",
        "oats_top = True\n",
        "\n",
        "# loss conditions (lose if either is false)\n",
        "oats_alive = True\n",
        "sheep_alive = True\n",
        "\n",
        "def print_state():\n",
        "  \"\"\" Print all parties on top of river bank, followed by\n",
        "  =======,\n",
        "  then all parties below river bank \"\"\"\n",
        "  if farmer_top:\n",
        "    print('Farmer')\n",
        "  if wolf_top:\n",
        "    print('Wolf')\n",
        "  if sheep_top:\n",
        "    print('Sheep')\n",
        "  if oats_top:\n",
        "    print('Oats')\n",
        "  print('==========')\n",
        "  if not farmer_top:\n",
        "    print('Farmer')\n",
        "  if not wolf_top:\n",
        "    print('Wolf')\n",
        "  if not sheep_top:\n",
        "    print('Sheep')\n",
        "  if not oats_top:\n",
        "    print('Oats')\n",
        "  if farmer_top and wolf_top and sheep_top and oats_top:\n",
        "    print('')\n",
        "\n",
        "\n",
        "# ACTIONS\n",
        "\n",
        "def move(gort):\n",
        "  \"\"\" Updates STATE variables given that the farmer moves something\"\"\"\n",
        "  if gort not in['wolf', 'sheep', 'oats', '']:\n",
        "    print('invalid')\n",
        "    return False\n",
        "\n",
        "  if gort==\"wolf\" and farmer_top==wolf_top:\n",
        "    wolf_top = not wolf_top\n",
        "    farmer_top = not farmer_top\n",
        "  elif gort==\"sheep\" and farmer_top==sheep_top:\n",
        "    sheep_top = not sheep_top\n",
        "    farmer_top = not farmer_top\n",
        "  elif gort==\"oats\" and farmer_top==oats_top:\n",
        "    oats_top = not oats_top\n",
        "    farmer_top = not farmer_top\n",
        "  elif gort==\"none\":\n",
        "    farmer_top = not farmer_top\n",
        "  else:\n",
        "    return\n",
        "  return\n",
        "\n",
        "##########\n",
        "while True:\n",
        "  print_state()\n",
        "\n",
        "  gort = str(input('move: '))\n",
        "  print('')\n",
        "  if gort==\"wolf\" and farmer_top==wolf_top:\n",
        "    wolf_top = not wolf_top\n",
        "    farmer_top = not farmer_top\n",
        "  elif gort==\"sheep\" and farmer_top==sheep_top:\n",
        "    sheep_top = not sheep_top\n",
        "    farmer_top = not farmer_top\n",
        "  elif gort==\"oats\" and farmer_top==oats_top:\n",
        "    oats_top = not oats_top\n",
        "    farmer_top = not farmer_top\n",
        "  elif gort==\"\":\n",
        "    farmer_top = not farmer_top\n",
        "  else:\n",
        "    print('invalid \\n')\n",
        "\n",
        "  if sheep_top == wolf_top != farmer_top:\n",
        "    sheep_alive = False\n",
        "  elif sheep_top == oats_top != farmer_top:\n",
        "    oats_alive = False\n",
        "\n",
        "  if not (oats_alive and sheep_alive):\n",
        "    print(\"you lose\")\n",
        "    break\n",
        "  if not (farmer_top or wolf_top or sheep_top or oats_top):\n",
        "    print(\"you win\")\n",
        "    break"
      ],
      "metadata": {
        "colab": {
          "base_uri": "https://localhost:8080/",
          "height": 1000
        },
        "id": "vmLUvmjyP5sl",
        "outputId": "019ad9b8-8755-4e4f-f49f-7822403a2266"
      },
      "execution_count": 13,
      "outputs": [
        {
          "output_type": "stream",
          "name": "stdout",
          "text": [
            "Farmer\n",
            "Wolf\n",
            "Sheep\n",
            "Oats\n",
            "==========\n",
            "\n",
            "move: sheep\n",
            "\n",
            "Wolf\n",
            "Oats\n",
            "==========\n",
            "Farmer\n",
            "Sheep\n",
            "move: none\n",
            "\n",
            "Farmer\n",
            "Wolf\n",
            "Oats\n",
            "==========\n",
            "Sheep\n",
            "move: wolf\n",
            "\n",
            "Oats\n",
            "==========\n",
            "Farmer\n",
            "Wolf\n",
            "Sheep\n",
            "move: sheep\n",
            "\n",
            "Farmer\n",
            "Sheep\n",
            "Oats\n",
            "==========\n",
            "Wolf\n",
            "move: egg\n",
            "\n",
            "invalid \n",
            "\n",
            "Farmer\n",
            "Sheep\n",
            "Oats\n",
            "==========\n",
            "Wolf\n"
          ]
        },
        {
          "output_type": "error",
          "ename": "KeyboardInterrupt",
          "evalue": "Interrupted by user",
          "traceback": [
            "\u001b[0;31m---------------------------------------------------------------------------\u001b[0m",
            "\u001b[0;31mKeyboardInterrupt\u001b[0m                         Traceback (most recent call last)",
            "\u001b[0;32m/tmp/ipython-input-3222747849.py\u001b[0m in \u001b[0;36m<cell line: 0>\u001b[0;34m()\u001b[0m\n\u001b[1;32m     59\u001b[0m   \u001b[0mprint_state\u001b[0m\u001b[0;34m(\u001b[0m\u001b[0;34m)\u001b[0m\u001b[0;34m\u001b[0m\u001b[0;34m\u001b[0m\u001b[0m\n\u001b[1;32m     60\u001b[0m \u001b[0;34m\u001b[0m\u001b[0m\n\u001b[0;32m---> 61\u001b[0;31m   \u001b[0mgort\u001b[0m \u001b[0;34m=\u001b[0m \u001b[0mstr\u001b[0m\u001b[0;34m(\u001b[0m\u001b[0minput\u001b[0m\u001b[0;34m(\u001b[0m\u001b[0;34m'move: '\u001b[0m\u001b[0;34m)\u001b[0m\u001b[0;34m)\u001b[0m\u001b[0;34m\u001b[0m\u001b[0;34m\u001b[0m\u001b[0m\n\u001b[0m\u001b[1;32m     62\u001b[0m   \u001b[0mprint\u001b[0m\u001b[0;34m(\u001b[0m\u001b[0;34m''\u001b[0m\u001b[0;34m)\u001b[0m\u001b[0;34m\u001b[0m\u001b[0;34m\u001b[0m\u001b[0m\n\u001b[1;32m     63\u001b[0m   \u001b[0;32mif\u001b[0m \u001b[0mgort\u001b[0m\u001b[0;34m==\u001b[0m\u001b[0;34m\"wolf\"\u001b[0m \u001b[0;32mand\u001b[0m \u001b[0mfarmer_top\u001b[0m\u001b[0;34m==\u001b[0m\u001b[0mwolf_top\u001b[0m\u001b[0;34m:\u001b[0m\u001b[0;34m\u001b[0m\u001b[0;34m\u001b[0m\u001b[0m\n",
            "\u001b[0;32m/usr/local/lib/python3.12/dist-packages/ipykernel/kernelbase.py\u001b[0m in \u001b[0;36mraw_input\u001b[0;34m(self, prompt)\u001b[0m\n\u001b[1;32m   1175\u001b[0m                 \u001b[0;34m\"raw_input was called, but this frontend does not support input requests.\"\u001b[0m\u001b[0;34m\u001b[0m\u001b[0;34m\u001b[0m\u001b[0m\n\u001b[1;32m   1176\u001b[0m             )\n\u001b[0;32m-> 1177\u001b[0;31m         return self._input_request(\n\u001b[0m\u001b[1;32m   1178\u001b[0m             \u001b[0mstr\u001b[0m\u001b[0;34m(\u001b[0m\u001b[0mprompt\u001b[0m\u001b[0;34m)\u001b[0m\u001b[0;34m,\u001b[0m\u001b[0;34m\u001b[0m\u001b[0;34m\u001b[0m\u001b[0m\n\u001b[1;32m   1179\u001b[0m             \u001b[0mself\u001b[0m\u001b[0;34m.\u001b[0m\u001b[0m_parent_ident\u001b[0m\u001b[0;34m[\u001b[0m\u001b[0;34m\"shell\"\u001b[0m\u001b[0;34m]\u001b[0m\u001b[0;34m,\u001b[0m\u001b[0;34m\u001b[0m\u001b[0;34m\u001b[0m\u001b[0m\n",
            "\u001b[0;32m/usr/local/lib/python3.12/dist-packages/ipykernel/kernelbase.py\u001b[0m in \u001b[0;36m_input_request\u001b[0;34m(self, prompt, ident, parent, password)\u001b[0m\n\u001b[1;32m   1217\u001b[0m             \u001b[0;32mexcept\u001b[0m \u001b[0mKeyboardInterrupt\u001b[0m\u001b[0;34m:\u001b[0m\u001b[0;34m\u001b[0m\u001b[0;34m\u001b[0m\u001b[0m\n\u001b[1;32m   1218\u001b[0m                 \u001b[0;31m# re-raise KeyboardInterrupt, to truncate traceback\u001b[0m\u001b[0;34m\u001b[0m\u001b[0;34m\u001b[0m\u001b[0m\n\u001b[0;32m-> 1219\u001b[0;31m                 \u001b[0;32mraise\u001b[0m \u001b[0mKeyboardInterrupt\u001b[0m\u001b[0;34m(\u001b[0m\u001b[0;34m\"Interrupted by user\"\u001b[0m\u001b[0;34m)\u001b[0m \u001b[0;32mfrom\u001b[0m \u001b[0;32mNone\u001b[0m\u001b[0;34m\u001b[0m\u001b[0;34m\u001b[0m\u001b[0m\n\u001b[0m\u001b[1;32m   1220\u001b[0m             \u001b[0;32mexcept\u001b[0m \u001b[0mException\u001b[0m\u001b[0;34m:\u001b[0m\u001b[0;34m\u001b[0m\u001b[0;34m\u001b[0m\u001b[0m\n\u001b[1;32m   1221\u001b[0m                 \u001b[0mself\u001b[0m\u001b[0;34m.\u001b[0m\u001b[0mlog\u001b[0m\u001b[0;34m.\u001b[0m\u001b[0mwarning\u001b[0m\u001b[0;34m(\u001b[0m\u001b[0;34m\"Invalid Message:\"\u001b[0m\u001b[0;34m,\u001b[0m \u001b[0mexc_info\u001b[0m\u001b[0;34m=\u001b[0m\u001b[0;32mTrue\u001b[0m\u001b[0;34m)\u001b[0m\u001b[0;34m\u001b[0m\u001b[0;34m\u001b[0m\u001b[0m\n",
            "\u001b[0;31mKeyboardInterrupt\u001b[0m: Interrupted by user"
          ]
        }
      ]
    }
  ]
}